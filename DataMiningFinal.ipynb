{
  "nbformat": 4,
  "nbformat_minor": 0,
  "metadata": {
    "colab": {
      "name": "DataMiningFinal.ipynb",
      "provenance": [],
      "collapsed_sections": [],
      "authorship_tag": "ABX9TyMAv7eJo9Rzpz2GcYkku4Ek",
      "include_colab_link": true
    },
    "kernelspec": {
      "name": "python3",
      "display_name": "Python 3"
    },
    "language_info": {
      "name": "python"
    },
    "accelerator": "GPU"
  },
  "cells": [
    {
      "cell_type": "markdown",
      "metadata": {
        "id": "view-in-github",
        "colab_type": "text"
      },
      "source": [
        "<a href=\"https://colab.research.google.com/github/pakdaniel/DataMiningFinal/blob/main/DataMiningFinal.ipynb\" target=\"_parent\"><img src=\"https://colab.research.google.com/assets/colab-badge.svg\" alt=\"Open In Colab\"/></a>"
      ]
    },
    {
      "cell_type": "code",
      "source": [
        "!pip3 install pysofaconventions\n",
        "!pip3 install colorama"
      ],
      "metadata": {
        "colab": {
          "base_uri": "https://localhost:8080/"
        },
        "id": "POQKd9xs-6j7",
        "outputId": "396721bb-2e1e-42c9-8111-d980f6e7b145"
      },
      "execution_count": 4,
      "outputs": [
        {
          "output_type": "stream",
          "name": "stdout",
          "text": [
            "Collecting pysofaconventions\n",
            "  Downloading pysofaconventions-0.1.5-py2.py3-none-any.whl (89 kB)\n",
            "\u001b[?25l\r\u001b[K     |███▊                            | 10 kB 19.3 MB/s eta 0:00:01\r\u001b[K     |███████▍                        | 20 kB 23.4 MB/s eta 0:00:01\r\u001b[K     |███████████                     | 30 kB 27.4 MB/s eta 0:00:01\r\u001b[K     |██████████████▊                 | 40 kB 12.7 MB/s eta 0:00:01\r\u001b[K     |██████████████████▍             | 51 kB 10.9 MB/s eta 0:00:01\r\u001b[K     |██████████████████████          | 61 kB 12.6 MB/s eta 0:00:01\r\u001b[K     |█████████████████████████▊      | 71 kB 11.3 MB/s eta 0:00:01\r\u001b[K     |█████████████████████████████▍  | 81 kB 12.2 MB/s eta 0:00:01\r\u001b[K     |████████████████████████████████| 89 kB 5.9 MB/s \n",
            "\u001b[?25hRequirement already satisfied: netCDF4 in /usr/local/lib/python3.7/dist-packages (from pysofaconventions) (1.5.8)\n",
            "Requirement already satisfied: numpy>=1.9 in /usr/local/lib/python3.7/dist-packages (from netCDF4->pysofaconventions) (1.21.6)\n",
            "Requirement already satisfied: cftime in /usr/local/lib/python3.7/dist-packages (from netCDF4->pysofaconventions) (1.6.0)\n",
            "Installing collected packages: pysofaconventions\n",
            "Successfully installed pysofaconventions-0.1.5\n",
            "Collecting colorama\n",
            "  Downloading colorama-0.4.4-py2.py3-none-any.whl (16 kB)\n",
            "Installing collected packages: colorama\n",
            "Successfully installed colorama-0.4.4\n"
          ]
        }
      ]
    },
    {
      "cell_type": "code",
      "execution_count": 7,
      "metadata": {
        "id": "RWAedOna8fwX"
      },
      "outputs": [],
      "source": [
        "import tensorflow as tf\n",
        "import numpy as np \n",
        "import random\n",
        "import matplotlib.pyplot as plt\n",
        "import os \n",
        "import sys\n",
        "import librosa\n",
        "import pysofaconventions \n",
        "import colorama\n",
        "from warnings import warn\n",
        "\n",
        "SEED = 1\n",
        "random.seed(SEED)\n",
        "np.random.seed(SEED)\n",
        "tf.random.set_seed(SEED)"
      ]
    },
    {
      "cell_type": "code",
      "source": [
        "from google.colab import drive\n",
        "drive_root = '/content/drive'\n",
        "drive.mount(drive_root)\n",
        "\n",
        "HUTUBS_PATH = os.path.join(drive_root, \"My Drive\", \"HUTUBS\")\n",
        "HRIR_DIR = os.path.join(HUTUBS_PATH, \"HRIRs\")"
      ],
      "metadata": {
        "colab": {
          "base_uri": "https://localhost:8080/"
        },
        "id": "6GGD3nrK-hqy",
        "outputId": "29411643-fea0-4d7b-dde6-d1f2dce70ec2"
      },
      "execution_count": 9,
      "outputs": [
        {
          "output_type": "stream",
          "name": "stdout",
          "text": [
            "Drive already mounted at /content/drive; to attempt to forcibly remount, call drive.mount(\"/content/drive\", force_remount=True).\n"
          ]
        }
      ]
    },
    {
      "cell_type": "code",
      "source": [
        "class SOFA:\n",
        "  def __init__(self, obj):\n",
        "\n",
        "    self.IR = obj.getDataIR().data\n",
        "    self.SamplingRate = obj.getSamplingRate().data.item()\n",
        "    self.SamplingRateUnits = obj.getSamplingRateUnits()\n",
        "    self.Delay = obj.getDataDelay().data\n",
        "      \n",
        "    dim_dict = obj.getDimensionsAsDict()\n",
        "    self.M = dim_dict[\"M\"].size # Num measurement positions\n",
        "    self.R = dim_dict[\"R\"].size # Num receivers (ears)\n",
        "    self.E = dim_dict[\"E\"].size # Num emitters (speakers)\n",
        "    self.N = dim_dict[\"N\"].size # Length of HRTF\n",
        "    self.I = dim_dict[\"I\"].size \n",
        "    self.S = dim_dict[\"S\"].size\n",
        "\n",
        "    self.Listener = {\n",
        "        \"Position\": obj.getListenerPositionValues().data,\n",
        "        \"PositionType\": obj.getListenerPositionInfo()[1],\n",
        "        \"PositionUnits\": obj.getListenerPositionInfo()[0],\n",
        "        \"Up\": obj.getListenerUpValues().data,\n",
        "        \"View\": obj.getListenerViewValues().data,\n",
        "        \"ViewType\": obj.getListenerViewInfo()[1],\n",
        "        \"ViewUnits\": obj.getListenerViewInfo()[0],\n",
        "    }\n",
        "\n",
        "    self.Receiver = {\n",
        "        \"Position\": obj.getReceiverPositionValues().data,\n",
        "        \"PositionType\": obj.getReceiverPositionInfo()[1],\n",
        "        \"PositionUnits\": obj.getReceiverPositionInfo()[0],\n",
        "    }\n",
        "\n",
        "    self.Source = {\n",
        "        \"Position\": obj.getSourcePositionValues().data,\n",
        "        \"PositionType\": obj.getSourcePositionInfo()[1],\n",
        "        \"PositionUnits\": obj.getSourcePositionInfo()[0],\n",
        "    }\n",
        "\n",
        "    self.Emitter = {\n",
        "        \"Position\": obj.getEmitterPositionValues().data,\n",
        "        \"PositionType\": obj.getEmitterPositionInfo()[1],\n",
        "        \"PositionUnits\": obj.getEmitterPositionInfo()[0],\n",
        "    }\n",
        "\n",
        "  @staticmethod\n",
        "  def sph2cart(coords):\n",
        "      alpha = coords[:, 0]*(np.pi/180)\n",
        "      beta = coords[:, 1]*(np.pi/180)\n",
        "      r = coords[:, 2]\n",
        "\n",
        "      x = r * np.cos(alpha) * np.cos(beta)\n",
        "      y = r * np.sin(alpha) * np.cos(beta)\n",
        "      z = r * np.sin(beta)\n",
        "      return np.array([x, y, z]).T\n",
        "\n",
        "  @staticmethod\n",
        "  def cart2sph(coords):\n",
        "      x = coords[:, 0]\n",
        "      y = coords[:, 1]\n",
        "      z = coords[:, 2]\n",
        "      \n",
        "      r = np.sqrt(x ** 2 + y ** 2 + z ** 2)\n",
        "      alpha = np.arctan2(y, x)\n",
        "      beta = np.arcsin(z / np.where(r != 0, r, 1))\n",
        "      return alpha, beta, r\n",
        "\n",
        "def read_sofa(sofa_path):\n",
        "  return SOFA(pysofaconventions.SOFAFile(sofa_path,'r'))"
      ],
      "metadata": {
        "id": "wTQ1cry7_D-I"
      },
      "execution_count": 12,
      "outputs": []
    }
  ]
}