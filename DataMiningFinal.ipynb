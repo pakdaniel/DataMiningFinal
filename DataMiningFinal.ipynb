{
  "nbformat": 4,
  "nbformat_minor": 0,
  "metadata": {
    "colab": {
      "name": "DataMiningFinal.ipynb",
      "provenance": [],
      "collapsed_sections": [],
      "authorship_tag": "ABX9TyNrLEgbv9DVpvYSHe7pNOjU",
      "include_colab_link": true
    },
    "kernelspec": {
      "name": "python3",
      "display_name": "Python 3"
    },
    "language_info": {
      "name": "python"
    },
    "accelerator": "GPU"
  },
  "cells": [
    {
      "cell_type": "markdown",
      "metadata": {
        "id": "view-in-github",
        "colab_type": "text"
      },
      "source": [
        "<a href=\"https://colab.research.google.com/github/pakdaniel/DataMiningFinal/blob/main/DataMiningFinal.ipynb\" target=\"_parent\"><img src=\"https://colab.research.google.com/assets/colab-badge.svg\" alt=\"Open In Colab\"/></a>"
      ]
    },
    {
      "cell_type": "code",
      "source": [
        "!pip3 install pysofaconventions\n",
        "!pip3 install colorama"
      ],
      "metadata": {
        "colab": {
          "base_uri": "https://localhost:8080/"
        },
        "id": "POQKd9xs-6j7",
        "outputId": "396721bb-2e1e-42c9-8111-d980f6e7b145"
      },
      "execution_count": null,
      "outputs": [
        {
          "output_type": "stream",
          "name": "stdout",
          "text": [
            "Collecting pysofaconventions\n",
            "  Downloading pysofaconventions-0.1.5-py2.py3-none-any.whl (89 kB)\n",
            "\u001b[?25l\r\u001b[K     |███▊                            | 10 kB 19.3 MB/s eta 0:00:01\r\u001b[K     |███████▍                        | 20 kB 23.4 MB/s eta 0:00:01\r\u001b[K     |███████████                     | 30 kB 27.4 MB/s eta 0:00:01\r\u001b[K     |██████████████▊                 | 40 kB 12.7 MB/s eta 0:00:01\r\u001b[K     |██████████████████▍             | 51 kB 10.9 MB/s eta 0:00:01\r\u001b[K     |██████████████████████          | 61 kB 12.6 MB/s eta 0:00:01\r\u001b[K     |█████████████████████████▊      | 71 kB 11.3 MB/s eta 0:00:01\r\u001b[K     |█████████████████████████████▍  | 81 kB 12.2 MB/s eta 0:00:01\r\u001b[K     |████████████████████████████████| 89 kB 5.9 MB/s \n",
            "\u001b[?25hRequirement already satisfied: netCDF4 in /usr/local/lib/python3.7/dist-packages (from pysofaconventions) (1.5.8)\n",
            "Requirement already satisfied: numpy>=1.9 in /usr/local/lib/python3.7/dist-packages (from netCDF4->pysofaconventions) (1.21.6)\n",
            "Requirement already satisfied: cftime in /usr/local/lib/python3.7/dist-packages (from netCDF4->pysofaconventions) (1.6.0)\n",
            "Installing collected packages: pysofaconventions\n",
            "Successfully installed pysofaconventions-0.1.5\n",
            "Collecting colorama\n",
            "  Downloading colorama-0.4.4-py2.py3-none-any.whl (16 kB)\n",
            "Installing collected packages: colorama\n",
            "Successfully installed colorama-0.4.4\n"
          ]
        }
      ]
    },
    {
      "cell_type": "code",
      "execution_count": null,
      "metadata": {
        "id": "RWAedOna8fwX"
      },
      "outputs": [],
      "source": [
        "import tensorflow as tf\n",
        "import numpy as np \n",
        "import random\n",
        "import matplotlib.pyplot as plt\n",
        "import os \n",
        "import sys\n",
        "import librosa\n",
        "import librosa.display\n",
        "import pysofaconventions \n",
        "import colorama\n",
        "from warnings import warn\n",
        "from IPython.display import Audio, display\n",
        "\n",
        "SEED = 1\n",
        "random.seed(SEED)\n",
        "np.random.seed(SEED)\n",
        "tf.random.set_seed(SEED)"
      ]
    },
    {
      "cell_type": "code",
      "source": [
        "from google.colab import drive\n",
        "drive_root = '/content/drive'\n",
        "drive.mount(drive_root)\n",
        "\n",
        "HUTUBS_PATH = os.path.join(drive_root, \"My Drive\", \"HUTUBS\")\n",
        "HRIR_DIR = os.path.join(HUTUBS_PATH, \"HRIRs\")"
      ],
      "metadata": {
        "colab": {
          "base_uri": "https://localhost:8080/"
        },
        "id": "6GGD3nrK-hqy",
        "outputId": "29411643-fea0-4d7b-dde6-d1f2dce70ec2"
      },
      "execution_count": null,
      "outputs": [
        {
          "output_type": "stream",
          "name": "stdout",
          "text": [
            "Drive already mounted at /content/drive; to attempt to forcibly remount, call drive.mount(\"/content/drive\", force_remount=True).\n"
          ]
        }
      ]
    },
    {
      "cell_type": "code",
      "source": [
        "class SOFA:\n",
        "  def __init__(self, obj):\n",
        "\n",
        "    self.IR = obj.getDataIR().data\n",
        "    self.SamplingRate = obj.getSamplingRate().data.item()\n",
        "    self.SamplingRateUnits = obj.getSamplingRateUnits()\n",
        "    self.Delay = obj.getDataDelay().data\n",
        "      \n",
        "    dim_dict = obj.getDimensionsAsDict()\n",
        "    self.M = dim_dict[\"M\"].size # Num measurement positions\n",
        "    self.R = dim_dict[\"R\"].size # Num receivers (ears)\n",
        "    self.E = dim_dict[\"E\"].size # Num emitters (speakers)\n",
        "    self.N = dim_dict[\"N\"].size # Length of HRTF\n",
        "    self.I = dim_dict[\"I\"].size \n",
        "    self.S = dim_dict[\"S\"].size\n",
        "\n",
        "    self.Listener = {\n",
        "        \"Position\": obj.getListenerPositionValues().data,\n",
        "        \"PositionType\": obj.getListenerPositionInfo()[1],\n",
        "        \"PositionUnits\": obj.getListenerPositionInfo()[0],\n",
        "        \"Up\": obj.getListenerUpValues().data,\n",
        "        \"View\": obj.getListenerViewValues().data,\n",
        "        \"ViewType\": obj.getListenerViewInfo()[1],\n",
        "        \"ViewUnits\": obj.getListenerViewInfo()[0],\n",
        "    }\n",
        "\n",
        "    self.Receiver = {\n",
        "        \"Position\": obj.getReceiverPositionValues().data,\n",
        "        \"PositionType\": obj.getReceiverPositionInfo()[1],\n",
        "        \"PositionUnits\": obj.getReceiverPositionInfo()[0],\n",
        "    }\n",
        "\n",
        "    self.Source = {\n",
        "        \"Position\": obj.getSourcePositionValues().data,\n",
        "        \"PositionType\": obj.getSourcePositionInfo()[1],\n",
        "        \"PositionUnits\": obj.getSourcePositionInfo()[0],\n",
        "    }\n",
        "\n",
        "    self.Emitter = {\n",
        "        \"Position\": obj.getEmitterPositionValues().data,\n",
        "        \"PositionType\": obj.getEmitterPositionInfo()[1],\n",
        "        \"PositionUnits\": obj.getEmitterPositionInfo()[0],\n",
        "    }\n",
        "\n",
        "  @staticmethod\n",
        "  def sph2cart(coords):\n",
        "      alpha = coords[:, 0]*(np.pi/180)\n",
        "      beta = coords[:, 1]*(np.pi/180)\n",
        "      r = coords[:, 2]\n",
        "\n",
        "      x = r * np.cos(alpha) * np.cos(beta)\n",
        "      y = r * np.sin(alpha) * np.cos(beta)\n",
        "      z = r * np.sin(beta)\n",
        "      return np.array([x, y, z]).T\n",
        "\n",
        "  @staticmethod\n",
        "  def cart2sph(coords):\n",
        "      x = coords[:, 0]\n",
        "      y = coords[:, 1]\n",
        "      z = coords[:, 2]\n",
        "      \n",
        "      r = np.sqrt(x ** 2 + y ** 2 + z ** 2)\n",
        "      alpha = np.arctan2(y, x)\n",
        "      beta = np.arcsin(z / np.where(r != 0, r, 1))\n",
        "      return alpha, beta, r\n",
        "\n",
        "  def split_HRIR_by_location(self, azimuth, elevation):\n",
        "      outputs = self.IR[np.all(self.Source[\"Position\"][:, :2] == np.array([azimuth, elevation]), axis=1)], self.IR[np.any(self.Source[\"Position\"][:, :2] != np.array([azimuth, elevation]), axis=1)]\n",
        "      if len(outputs[0]) == 0:\n",
        "          raise ValueError(\"The given (azimuth, elevation) angle pair does not exist in the HRIR\")\n",
        "      return outputs\n",
        "\n",
        "  def split_HRIR_by_locations(self, locations):\n",
        "\n",
        "      conditions = np.logical_or.reduce([np.all(self.Source[\"Position\"][:, :2] == np.array([azimuth, elevation]), axis=1) for azimuth, elevation in locations])\n",
        "      if not any(conditions):\n",
        "          raise Exception(\"None of the angle pairs passed in exist in the dataset\")\n",
        "      if sum(conditions) != len(locations):\n",
        "          warn(\"One or more of the angle pairs passed in does not exist in the dataset; the size of the split will be smaller than the number of locations passed in.\")\n",
        "      outputs = self.IR[conditions], self.IR[~conditions]\n",
        "      return outputs\n",
        "\n",
        "  def get_indices_of_locations(self, locations):\n",
        "      if type(locations) == tuple and len(locations) == 2:\n",
        "          locations = [locations]\n",
        "      return np.where(np.logical_or.reduce([np.all(self.Source[\"Position\"][:, :2] == np.array([azimuth, elevation]), axis=1) for azimuth, elevation in locations]) == True)[0]\n",
        "\n",
        "def playback(audiofile_path):\n",
        "  Audio(audiofile_path)\n",
        "\n",
        "def read_sofa(sofa_path):\n",
        "  return SOFA(pysofaconventions.SOFAFile(sofa_path,'r'))"
      ],
      "metadata": {
        "id": "wTQ1cry7_D-I"
      },
      "execution_count": null,
      "outputs": []
    },
    {
      "cell_type": "code",
      "source": [
        "hrir_paths = [os.path.join(HRIR_DIR, hrir_path) for hrir_path in os.listdir(HRIR_DIR) if \"_measured.sofa\" in hrir_path]\n",
        "hrir_paths = sorted(hrir_paths, key=lambda x: int((x.split(\"/\")[-1].split(\"_\")[0][2:])))\n",
        "hrir_all = [read_sofa(i) for i in hrir_paths]"
      ],
      "metadata": {
        "id": "gCaGK51aCEvr"
      },
      "execution_count": null,
      "outputs": []
    },
    {
      "cell_type": "code",
      "source": [
        "fs = 44100 # samping frequency in Hz\n",
        "dt = 1/fs \n",
        "N = 256\n",
        "t = np.arange(N)*dt"
      ],
      "metadata": {
        "id": "nPyXBLRbCg7J"
      },
      "execution_count": null,
      "outputs": []
    },
    {
      "cell_type": "code",
      "source": [
        "temp = hrir_all[0].IR\n",
        "y = temp[0][0]\n",
        "y.shape\n"
      ],
      "metadata": {
        "colab": {
          "base_uri": "https://localhost:8080/"
        },
        "id": "sCu30bWeHsnO",
        "outputId": "59d3387a-1224-466d-fb32-431892e47a08"
      },
      "execution_count": null,
      "outputs": [
        {
          "output_type": "execute_result",
          "data": {
            "text/plain": [
              "(256,)"
            ]
          },
          "metadata": {},
          "execution_count": 104
        }
      ]
    },
    {
      "cell_type": "code",
      "source": [
        "plt.figure(figsize=(8,6))\n",
        "plt.plot(t, temp[0][0])\n",
        "plt.xlabel(\"Time (s)\", fontsize = 12)\n",
        "plt.ylabel(\"Amplitude\", fontsize = 12)\n",
        "plt.ylim([-1,1])\n",
        "plt.show()"
      ],
      "metadata": {
        "colab": {
          "base_uri": "https://localhost:8080/",
          "height": 395
        },
        "id": "B6lsJ9JvEGc7",
        "outputId": "123cf9fe-cbad-41c4-a20e-ad49b6898838"
      },
      "execution_count": null,
      "outputs": [
        {
          "output_type": "display_data",
          "data": {
            "text/plain": [
              "<Figure size 576x432 with 1 Axes>"
            ],
            "image/png": "[encoded data removed]"
          },
          "metadata": {
            "needs_background": "light"
          }
        }
      ]
    },
    {
      "cell_type": "code",
      "source": [
        "D = librosa.stft(y)\n",
        "S_db = librosa.amplitude_to_db(np.abs(D), ref=np.max)\n",
        "\n",
        "import librosa.display\n",
        "\n",
        "plt.figure()\n",
        "librosa.display.specshow(S_db)\n",
        "plt.colorbar()"
      ],
      "metadata": {
        "colab": {
          "base_uri": "https://localhost:8080/",
          "height": 310
        },
        "id": "A6PIlCulOaVP",
        "outputId": "e6464179-6970-44d8-9da0-bfcc873ddb83"
      },
      "execution_count": null,
      "outputs": [
        {
          "output_type": "stream",
          "name": "stderr",
          "text": [
            "/usr/local/lib/python3.7/dist-packages/librosa/core/spectrum.py:224: UserWarning: n_fft=2048 is too small for input signal of length=256\n",
            "  n_fft, y.shape[-1]\n"
          ]
        },
        {
          "output_type": "execute_result",
          "data": {
            "text/plain": [
              "<matplotlib.colorbar.Colorbar at 0x7fd72589d810>"
            ]
          },
          "metadata": {},
          "execution_count": 107
        },
        {
          "output_type": "display_data",
          "data": {
            "text/plain": [
              "<Figure size 432x288 with 2 Axes>"
            ],
            "image/png": "[encoded data removed]"
          },
          "metadata": {
            "needs_background": "light"
          }
        }
      ]
    },
    {
      "cell_type": "code",
      "source": [
        ""
      ],
      "metadata": {
        "id": "9JLm52cyOaUb"
      },
      "execution_count": null,
      "outputs": []
    },
    {
      "cell_type": "code",
      "source": [
        "def pre_process_audio_mel_t(audio, sample_rate=44100, n_fft = 1024):\n",
        "  mel_spec = librosa.feature.melspectrogram(y=audio, sr=sample_rate, n_fft = n_fft)\n",
        "  mel_db = (librosa.power_to_db(mel_spec, ref=np.max) + 40) / 40\n",
        "  return mel_db.T"
      ],
      "metadata": {
        "id": "Q3tZuEXtEub0"
      },
      "execution_count": null,
      "outputs": []
    },
    {
      "cell_type": "code",
      "source": [
        "mel_spec = librosa.feature.melspectrogram(y=temp[0][0], sr=44100, n_fft = 100000)\n",
        "mel_spec = mel_spec.T\n",
        "mel_spec"
      ],
      "metadata": {
        "colab": {
          "base_uri": "https://localhost:8080/"
        },
        "id": "tu7mHWhxMZjK",
        "outputId": "58fbe290-7633-49bc-964a-c58bb9db66f9"
      },
      "execution_count": null,
      "outputs": [
        {
          "output_type": "stream",
          "name": "stderr",
          "text": [
            "/usr/local/lib/python3.7/dist-packages/librosa/core/spectrum.py:224: UserWarning: n_fft=100000 is too small for input signal of length=256\n",
            "  n_fft, y.shape[-1]\n"
          ]
        },
        {
          "output_type": "execute_result",
          "data": {
            "text/plain": [
              "array([[4.44374591e+00, 5.03339602e+01, 1.88245330e+02, 1.96289874e-08,\n",
              "        4.64070538e+02, 6.35759652e+02, 6.78894583e-08, 7.64630377e+02,\n",
              "        4.43466947e+02, 2.54628234e-07, 8.71502229e+01, 1.61211970e+01,\n",
              "        8.23976775e+01, 1.41932347e+03, 3.04415123e-04, 3.11289502e+02,\n",
              "        8.59665854e+02, 4.60813176e-07, 3.33224048e+02, 3.65628345e+02,\n",
              "        7.37187646e-08, 2.15850672e+02, 9.79816626e+01, 2.49796754e-08,\n",
              "        1.57585908e+00, 1.77504405e-01, 7.12643128e+01, 5.78144410e+02,\n",
              "        3.55757311e-06, 6.51718445e+02, 1.38038695e+03, 6.69768251e-08,\n",
              "        1.56610510e+03, 1.03338651e+03, 2.27721674e+02, 2.28568537e+03,\n",
              "        1.69953873e-07, 7.60395464e+02, 2.17785603e+02, 9.31551527e+01,\n",
              "        5.64991640e+01, 7.17723400e+00, 4.70241953e+00, 1.80330830e+02,\n",
              "        7.48808991e+01, 5.03060417e+02, 1.96235101e+02, 5.06970090e+02,\n",
              "        6.75411829e+02, 5.83418674e+02, 1.76616388e+03, 1.13102670e+03,\n",
              "        1.04668975e+03, 1.25356841e+03, 3.30033027e+02, 7.75385987e+01,\n",
              "        3.28737290e+02, 6.89368152e+02, 1.03432250e+03, 1.53898883e+03,\n",
              "        1.99985127e+03, 2.17009797e+03, 2.31400810e+03, 1.30423154e+03,\n",
              "        2.97679438e+02, 7.86082322e+02, 1.99767437e+03, 2.71678661e+03,\n",
              "        3.14065861e+03, 3.65333631e+03, 3.83364523e+03, 1.12890131e+03,\n",
              "        1.80641271e+03, 7.51727025e+03, 9.91682261e+03, 7.55292087e+03,\n",
              "        1.10196707e+03, 3.13421879e+03, 5.57180643e+03, 6.12939626e+03,\n",
              "        3.21336774e+03, 6.22219485e+02, 2.68101105e+03, 5.32245600e+03,\n",
              "        3.39415325e+03, 5.64582360e+02, 1.19421181e+03, 3.73923990e+03,\n",
              "        3.09289387e+03, 4.68572080e+02, 2.68198495e+03, 3.92304486e+03,\n",
              "        9.71759502e+02, 1.78040376e+03, 2.68629267e+03, 6.83915779e+02,\n",
              "        1.22668345e+03, 1.19714306e+03, 4.21554206e+02, 9.79592047e+02,\n",
              "        7.66871633e+02, 5.37071896e+02, 6.74309965e+02, 1.55243934e+02,\n",
              "        3.63242117e+02, 1.17797252e+02, 2.54113067e+02, 1.98856750e+02,\n",
              "        2.44035389e+02, 8.09692460e+01, 1.15265688e+02, 4.65618602e+01,\n",
              "        9.64846118e+01, 1.41953679e+02, 2.60880359e+02, 1.70415098e+02,\n",
              "        3.10762004e+01, 2.73679495e+01, 1.88866277e+02, 1.61334982e+02,\n",
              "        1.03279709e+02, 7.09937639e+01, 6.33399991e+01, 9.71008370e+01,\n",
              "        1.02019789e+02, 4.78690354e+01, 1.64157191e+00, 3.52154607e-03]])"
            ]
          },
          "metadata": {},
          "execution_count": 102
        }
      ]
    },
    {
      "cell_type": "code",
      "source": [
        "pre_process_audio_mel_t(temp[0][0], n_fft = 256)"
      ],
      "metadata": {
        "colab": {
          "base_uri": "https://localhost:8080/"
        },
        "id": "AjB_xbzQEua8",
        "outputId": "1ef2ee67-12c1-4f3f-80c8-147a3ae1b311"
      },
      "execution_count": null,
      "outputs": [
        {
          "output_type": "stream",
          "name": "stderr",
          "text": [
            "/usr/local/lib/python3.7/dist-packages/librosa/filters.py:239: UserWarning: Empty filters detected in mel frequency basis. Some channels will produce empty responses. Try increasing your sampling rate (and fmax) or reducing n_mels.\n",
            "  \"Empty filters detected in mel frequency basis. \"\n"
          ]
        },
        {
          "output_type": "execute_result",
          "data": {
            "text/plain": [
              "array([[-1.        , -1.        , -1.        , -1.        ,  0.29143851,\n",
              "         0.31597727, -1.        , -1.        , -1.        , -1.        ,\n",
              "         0.44788337,  0.2236583 , -1.        , -1.        , -1.        ,\n",
              "         0.69313515,  0.76943167, -1.        , -1.        , -1.        ,\n",
              "        -1.        ,  0.62178944,  0.48754273, -1.        , -1.        ,\n",
              "        -1.        ,  0.61769979,  0.7559525 , -1.        , -1.        ,\n",
              "        -1.        , -1.        ,  0.89041304,  0.78628923, -1.        ,\n",
              "        -1.        , -1.        ,  0.82979109,  0.5960733 , -1.        ,\n",
              "        -1.        , -0.25768937, -0.36278806, -1.        ,  0.40173898,\n",
              "         0.7692624 , -1.        , -1.        ,  0.84879631,  0.73224436,\n",
              "        -1.        ,  0.86734046,  0.73985523,  0.34032237,  0.69921378,\n",
              "        -1.        ,  0.67678342,  0.65836581,  0.74610057,  0.88306006,\n",
              "         0.62794741,  0.93197076,  0.4760567 ,  0.82691211,  0.43970895,\n",
              "         0.63141924,  0.81834004,  0.87914459,  0.93397007,  0.86681851,\n",
              "         0.90988108,  0.4659086 ,  0.73500832,  0.99250084,  1.        ,\n",
              "         0.92913337,  0.80462933,  0.83188843,  0.97336069,  0.95222746,\n",
              "         0.87198768,  0.75424478,  0.86345783,  0.93604895,  0.89777739,\n",
              "         0.72700323,  0.80144764,  0.90313428,  0.87492872,  0.6928372 ,\n",
              "         0.8735149 ,  0.90264472,  0.75100293,  0.81916418,  0.87008785,\n",
              "         0.69917908,  0.78765998,  0.78621484,  0.65394482,  0.75962561,\n",
              "         0.72440665,  0.68756874,  0.71275059,  0.57217349,  0.65049714,\n",
              "         0.54034276,  0.61515905,  0.56450201,  0.59853601,  0.48857679,\n",
              "         0.53177829,  0.43451724,  0.49688347,  0.54535243,  0.56615948,\n",
              "         0.53418324,  0.35783381,  0.30116563,  0.53367879,  0.54717742,\n",
              "         0.504588  ,  0.46908782,  0.45889595,  0.48406399,  0.47114394,\n",
              "         0.35676403,  0.01860728, -0.60252821]])"
            ]
          },
          "metadata": {},
          "execution_count": 95
        }
      ]
    }
  ]
}